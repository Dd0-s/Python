{
 "cells": [
  {
   "cell_type": "markdown",
   "metadata": {},
   "source": [
    "## Домашнее задание №1 (курс \"Практикум по программированию на языке Python\")"
   ]
  },
  {
   "cell_type": "markdown",
   "metadata": {},
   "source": [
    "### Выполнил: Богданов Александр Иванович, МФТИ, ФПМИ ПМ (ФУПМ)\n",
    "\n",
    "### Тема: Введение в язык Python\n",
    "\n",
    "**Автор**: Мурат Апишев\n",
    "\n",
    "**Выдана**:   16 февраля 2023\n",
    "\n",
    "**Дедлайн**:  21:00 3 марта 2023\n",
    "\n",
    "**Среда выполнения**: Jupyter Notebook (Python 3.7+)\n",
    "\n",
    "#### Правила:\n",
    "\n",
    "Результат выполнения задания - Jupyter Notebook с кодом. __Максимальное число баллов за задание - 20__.\n",
    "\n",
    "Все ячейки должны быть \"выполненными\", при этом результат должен воспроизводиться при проверке (на Python 3.7). Если какой-то код не был запущен или отрабатывает с ошибками, то пункт не засчитывается. Задание, сданное после дедлайна, _не принимается_. Можно отправить недоделанное задание, выполненные пункты будут оценены.\n",
    "\n",
    "Готовое задание отправляется на почту mel-lain@yandex.ru.\n",
    "\n",
    "Задание выполняется самостоятельно. Если какие-то студенты будут уличены в списывании, все они автоматически получат за эту работу 0 баллов. Если вы нашли в Интернете какой-то специфичный код, который собираетесь заимствовать, обязательно укажите это в задании - наверняка вы не единственный, кто найдёт и использует эту информацию.\n",
    "\n",
    "__Удалять фрагменты формулировок заданий запрещается.__"
   ]
  },
  {
   "cell_type": "markdown",
   "metadata": {},
   "source": [
    "#### Постановка задачи:\n",
    "\n",
    "- В данной работе нужно решить набор задач, проверяющих владение базовыми инструментами языка.\n",
    "- Каждая задача представляет собой написание одной или более функций, а также набора тестов, проверяющих работу этой функции в общих и крайних случаях.\n",
    "- Отсутствие тестов автоматически уменьшает количество баллов за задание как минимум в два раза, некачественные тесты также будут штрафоваться.\n",
    "- Если в задании указано использовать несколько разных вариантов решения, подразумевается использование различных инструментов (циклы, списковые включения, генераторы, встроенные функции, функции модулей стандартной библотеки и т.п.), замена, например, цикла for на цикл while не является иным способом решения.\n",
    "- Даже если это не указано явно в требованиях, код должен быть по возможности неизбыточным, работать с разумной сложностью и объёмом потребялемой памяти, проверяющие могут снизить балл за задание, выполненное без учёта этого требования.\n",
    "- Результирующий код должен быть читаемым, с единой системой отступов и адеквантными названиями переменных, проверяющие могут снизить балл за задание, выполненное без учёта этого требования."
   ]
  },
  {
   "cell_type": "markdown",
   "metadata": {},
   "source": [
    "__Задание 1 (0.5 балла):__ Дано натуральное число. Требуется определить, является ли год с данным номером високосным. Если год является високосным, то выведите YES, иначе выведите NO. Напомним, что в соответствии с григорианским календарем, год является високосным, если его номер кратен 4, но не кратен 100, а также если он кратен 400."
   ]
  },
  {
   "cell_type": "code",
   "execution_count": 14,
   "metadata": {},
   "outputs": [],
   "source": [
    "def task_01_func(year):\n",
    "    if (year % 4 == 0 and year % 100 != 0) or (year % 400 == 0):\n",
    "        print(\"YES\")\n",
    "    else:\n",
    "        print(\"NO\")"
   ]
  },
  {
   "cell_type": "code",
   "execution_count": 16,
   "metadata": {},
   "outputs": [
    {
     "name": "stdout",
     "output_type": "stream",
     "text": [
      "YES\n",
      "NO\n",
      "YES\n"
     ]
    }
   ],
   "source": [
    "# test\n",
    "task_01_func(2000)\n",
    "task_01_func(1900)\n",
    "task_01_func(2004)"
   ]
  },
  {
   "cell_type": "markdown",
   "metadata": {},
   "source": [
    "__Задание 2 (0.5 балла):__ Дано натуральное число. Найдите число знаков в его десятичной записи. Предложите как минимум два различных решения."
   ]
  },
  {
   "cell_type": "code",
   "execution_count": 17,
   "metadata": {},
   "outputs": [],
   "source": [
    "def task_02_func(number):\n",
    "    number_str = str(number)\n",
    "    return len(number_str)"
   ]
  },
  {
   "cell_type": "code",
   "execution_count": 21,
   "metadata": {},
   "outputs": [
    {
     "name": "stdout",
     "output_type": "stream",
     "text": [
      "3\n",
      "4\n",
      "6\n"
     ]
    }
   ],
   "source": [
    "# test\n",
    "print(task_02_func(100))\n",
    "print(task_02_func(5232))\n",
    "print(task_02_func(487690))"
   ]
  },
  {
   "cell_type": "code",
   "execution_count": 30,
   "metadata": {},
   "outputs": [],
   "source": [
    "def task_02_func(number):\n",
    "    i = 0\n",
    "    while number > 0:\n",
    "        number //= 10\n",
    "        i += 1\n",
    "    return i"
   ]
  },
  {
   "cell_type": "code",
   "execution_count": 31,
   "metadata": {},
   "outputs": [
    {
     "name": "stdout",
     "output_type": "stream",
     "text": [
      "3\n",
      "4\n",
      "6\n"
     ]
    }
   ],
   "source": [
    "# test\n",
    "print(task_02_func(100))\n",
    "print(task_02_func(5232))\n",
    "print(task_02_func(487690))"
   ]
  },
  {
   "cell_type": "markdown",
   "metadata": {},
   "source": [
    "__Задание 3 (0.5 балла):__ По данному натуральном n вычислите сумму 1!+2!+3!+...+n!. В решении этой задачи с помощью циклов можно использовать только один цикл. Предложите как минимум два различных решения."
   ]
  },
  {
   "cell_type": "code",
   "execution_count": 32,
   "metadata": {},
   "outputs": [],
   "source": [
    "def task_03_func(n):\n",
    "    factorial = 1\n",
    "    partition_sum = 0\n",
    "    for i in range(n):\n",
    "        factorial *= i + 1\n",
    "        partition_sum += factorial\n",
    "    return partition_sum"
   ]
  },
  {
   "cell_type": "code",
   "execution_count": 34,
   "metadata": {
    "scrolled": true
   },
   "outputs": [
    {
     "name": "stdout",
     "output_type": "stream",
     "text": [
      "9\n",
      "33\n",
      "153\n"
     ]
    }
   ],
   "source": [
    "# test\n",
    "print(task_03_func(3))\n",
    "print(task_03_func(4))\n",
    "print(task_03_func(5))"
   ]
  },
  {
   "cell_type": "code",
   "execution_count": 45,
   "metadata": {},
   "outputs": [],
   "source": [
    "def task_03_func(n):\n",
    "    def rec(n, x):\n",
    "        if n > 1:\n",
    "            return rec(n - 1, (n - 1) * (1 + x))\n",
    "        else:\n",
    "            return x\n",
    "\n",
    "    return rec(n, n)"
   ]
  },
  {
   "cell_type": "code",
   "execution_count": 46,
   "metadata": {
    "scrolled": true
   },
   "outputs": [
    {
     "name": "stdout",
     "output_type": "stream",
     "text": [
      "9\n",
      "33\n",
      "153\n"
     ]
    }
   ],
   "source": [
    "# test\n",
    "print(task_03_func(3))\n",
    "print(task_03_func(4))\n",
    "print(task_03_func(5))"
   ]
  },
  {
   "cell_type": "markdown",
   "metadata": {},
   "source": [
    "__Задание 4 (0.5 балла):__ Определить, является ли введённая строка палиндромом (то есть одинаково читается с обеих сторон). Предложите как минимум три различных решения."
   ]
  },
  {
   "cell_type": "code",
   "execution_count": 71,
   "metadata": {},
   "outputs": [],
   "source": [
    "def task_04_func(s):\n",
    "    answer = \"YES\"\n",
    "    for i in range(len(s) // 2):\n",
    "        if s[i] != s[-1 - i]:\n",
    "            answer = \"NO\"\n",
    "            break\n",
    "    return answer"
   ]
  },
  {
   "cell_type": "code",
   "execution_count": 72,
   "metadata": {},
   "outputs": [
    {
     "name": "stdout",
     "output_type": "stream",
     "text": [
      "YES\n",
      "NO\n",
      "YES\n"
     ]
    }
   ],
   "source": [
    "# test\n",
    "print(task_04_func(\"\"))\n",
    "print(task_04_func(\"abbda\"))\n",
    "print(task_04_func(\"abcba\"))"
   ]
  },
  {
   "cell_type": "code",
   "execution_count": 84,
   "metadata": {},
   "outputs": [],
   "source": [
    "def task_04_func(s):\n",
    "    if s == s[::-1]:\n",
    "        return \"YES\"\n",
    "    else:\n",
    "        return \"NO\""
   ]
  },
  {
   "cell_type": "code",
   "execution_count": 85,
   "metadata": {},
   "outputs": [
    {
     "name": "stdout",
     "output_type": "stream",
     "text": [
      "YES\n",
      "NO\n",
      "YES\n"
     ]
    }
   ],
   "source": [
    "# test\n",
    "print(task_04_func(\"\"))\n",
    "print(task_04_func(\"abbda\"))\n",
    "print(task_04_func(\"abcba\"))"
   ]
  },
  {
   "cell_type": "code",
   "execution_count": 86,
   "metadata": {},
   "outputs": [],
   "source": [
    "def task_04_func(s):\n",
    "    s_rev = \"\".join(reversed(s))\n",
    "    if s == s_rev:\n",
    "        return \"YES\"\n",
    "    else:\n",
    "        return \"NO\""
   ]
  },
  {
   "cell_type": "code",
   "execution_count": 87,
   "metadata": {},
   "outputs": [
    {
     "name": "stdout",
     "output_type": "stream",
     "text": [
      "YES\n",
      "NO\n",
      "YES\n"
     ]
    }
   ],
   "source": [
    "# test\n",
    "print(task_04_func(\"\"))\n",
    "print(task_04_func(\"abbda\"))\n",
    "print(task_04_func(\"abcba\"))"
   ]
  },
  {
   "cell_type": "markdown",
   "metadata": {},
   "source": [
    "__Задание 5 (1 балл):__ Дан текст в виде строки. Напишите функцию, которая возвращает словарь, где ключами являются уникальные слова из этого текста, а значениями - число раз, которое данное слово встретилось в тексте. Считать, что слова разделяются пробелами. Предложите как минимум два различных решения."
   ]
  },
  {
   "cell_type": "code",
   "execution_count": 31,
   "metadata": {
    "ExecuteTime": {
     "end_time": "2023-02-20T13:19:16.876008Z",
     "start_time": "2023-02-20T13:19:16.871026Z"
    }
   },
   "outputs": [],
   "source": [
    "def task_05_func(text):\n",
    "    words = text.split(\" \")\n",
    "    dict_words = dict.fromkeys(words)\n",
    "    for word in words:\n",
    "        if dict_words[word] is None:\n",
    "            dict_words[word] = 1\n",
    "        else:\n",
    "            dict_words[word] += 1\n",
    "    return dict_words"
   ]
  },
  {
   "cell_type": "code",
   "execution_count": 34,
   "metadata": {
    "ExecuteTime": {
     "end_time": "2023-02-20T13:20:15.069656Z",
     "start_time": "2023-02-20T13:20:15.064684Z"
    },
    "scrolled": true
   },
   "outputs": [
    {
     "name": "stdout",
     "output_type": "stream",
     "text": [
      "{'a': 3}\n",
      "{'a': 2, 'b': 3}\n",
      "{'a': 2, 'b': 3, 'c': 2}\n"
     ]
    }
   ],
   "source": [
    "# test\n",
    "print(task_05_func(\"a a a\"))\n",
    "print(task_05_func(\"a b b b a\"))\n",
    "print(task_05_func(\"a b c b a b c\"))"
   ]
  },
  {
   "cell_type": "code",
   "execution_count": 45,
   "metadata": {
    "ExecuteTime": {
     "end_time": "2023-02-20T13:50:38.316606Z",
     "start_time": "2023-02-20T13:50:38.312061Z"
    }
   },
   "outputs": [],
   "source": [
    "from collections import Counter\n",
    "\n",
    "\n",
    "def task_05_func(text):\n",
    "    words = text.split(\" \")\n",
    "    return dict(Counter(words))"
   ]
  },
  {
   "cell_type": "code",
   "execution_count": 46,
   "metadata": {
    "ExecuteTime": {
     "end_time": "2023-02-20T13:50:38.610655Z",
     "start_time": "2023-02-20T13:50:38.605536Z"
    }
   },
   "outputs": [
    {
     "name": "stdout",
     "output_type": "stream",
     "text": [
      "{'a': 3}\n",
      "{'a': 2, 'b': 3}\n",
      "{'a': 2, 'b': 3, 'c': 2}\n"
     ]
    }
   ],
   "source": [
    "# test\n",
    "print(task_05_func(\"a a a\"))\n",
    "print(task_05_func(\"a b b b a\"))\n",
    "print(task_05_func(\"a b c b a b c\"))"
   ]
  },
  {
   "cell_type": "markdown",
   "metadata": {},
   "source": [
    "__Задание 6 (1 балл):__ Напишите функцию, которая принимает на вход строку и символ и возвращает:\n",
    "\n",
    "- если символ встретился в строке один раз - кортеж (индекс вхождения, None);\n",
    "- если два и более раз - кортеж (индекс первого вхождения, индекс последнего вхождения);\n",
    "- если ни разу - кортеж (None, None).\n",
    "\n",
    "Запрещается делать более одного прохода по каждому элементу строки."
   ]
  },
  {
   "cell_type": "code",
   "execution_count": 66,
   "metadata": {
    "ExecuteTime": {
     "end_time": "2023-02-20T14:21:48.838229Z",
     "start_time": "2023-02-20T14:21:48.832609Z"
    }
   },
   "outputs": [],
   "source": [
    "def task_06_func(input_str, input_char):\n",
    "    answer = [None] * 2\n",
    "    for i in range(len(input_str)):\n",
    "        if input_str[i] == input_char:\n",
    "            if answer[0] is None:\n",
    "                answer[0] = i\n",
    "            else:\n",
    "                answer[1] = i\n",
    "    return answer"
   ]
  },
  {
   "cell_type": "code",
   "execution_count": 67,
   "metadata": {
    "ExecuteTime": {
     "end_time": "2023-02-20T14:22:11.320176Z",
     "start_time": "2023-02-20T14:22:11.314523Z"
    }
   },
   "outputs": [
    {
     "name": "stdout",
     "output_type": "stream",
     "text": [
      "[1, None]\n",
      "[1, 4]\n",
      "[None, None]\n"
     ]
    }
   ],
   "source": [
    "# test\n",
    "print(task_06_func(\"abaaa\", \"b\"))\n",
    "print(task_06_func(\"babaa\", \"a\"))\n",
    "print(task_06_func(\"aaaaa\", \"b\"))"
   ]
  },
  {
   "cell_type": "markdown",
   "metadata": {},
   "source": [
    "__Задание 7 (1 балл):__ Дан список целых чисел. Напишите функцию, которая возвращает копию этого списка, из которой удалены отрицательные числа, а все прочие числа возведены в квадрат. Также возвращаемая последовательность должна быть отсортирована по убыванию. Предложите как минимум три различных решения."
   ]
  },
  {
   "cell_type": "code",
   "execution_count": 172,
   "metadata": {
    "ExecuteTime": {
     "end_time": "2023-02-21T09:45:21.417339Z",
     "start_time": "2023-02-21T09:45:21.413081Z"
    }
   },
   "outputs": [],
   "source": [
    "def task_07_func(lst):\n",
    "    return sorted([x**2 for x in lst if x >= 0], reverse=True)"
   ]
  },
  {
   "cell_type": "code",
   "execution_count": 188,
   "metadata": {
    "ExecuteTime": {
     "end_time": "2023-02-21T10:10:26.393295Z",
     "start_time": "2023-02-21T10:10:26.388275Z"
    }
   },
   "outputs": [
    {
     "name": "stdout",
     "output_type": "stream",
     "text": [
      "[25, 9, 4, 0, 1]\n",
      "[]\n"
     ]
    }
   ],
   "source": [
    "# test\n",
    "print(task_07_func([0, -1, 2, 5, -4, 3]))\n",
    "print(task_07_func([]))"
   ]
  },
  {
   "cell_type": "code",
   "execution_count": 180,
   "metadata": {
    "ExecuteTime": {
     "end_time": "2023-02-21T09:57:27.349766Z",
     "start_time": "2023-02-21T09:57:27.344916Z"
    }
   },
   "outputs": [],
   "source": [
    "def task_07_func(lst):\n",
    "    new_lst = []\n",
    "    for number in lst:\n",
    "        if number >= 0:\n",
    "            new_lst.append(number**2)\n",
    "    return sorted(new_lst, reverse=True)"
   ]
  },
  {
   "cell_type": "code",
   "execution_count": 189,
   "metadata": {
    "ExecuteTime": {
     "end_time": "2023-02-21T10:10:35.099461Z",
     "start_time": "2023-02-21T10:10:35.095051Z"
    }
   },
   "outputs": [
    {
     "name": "stdout",
     "output_type": "stream",
     "text": [
      "[25, 9, 4, 0, 1]\n",
      "[]\n"
     ]
    }
   ],
   "source": [
    "# test\n",
    "print(task_07_func([0, -1, 2, 5, -4, 3]))\n",
    "print(task_07_func([]))"
   ]
  },
  {
   "cell_type": "code",
   "execution_count": 193,
   "metadata": {
    "ExecuteTime": {
     "end_time": "2023-02-21T10:11:17.741194Z",
     "start_time": "2023-02-21T10:11:17.734717Z"
    }
   },
   "outputs": [],
   "source": [
    "def task_07_func(lst):\n",
    "    def square(x): return x**2\n",
    "    sort_lst = sorted(lst, reverse=True)\n",
    "    j = 0\n",
    "    for i in range(len(sort_lst)):\n",
    "        if sort_lst[i] < 0:\n",
    "            j = i\n",
    "            break\n",
    "    return list(map(square, sort_lst[:j]))"
   ]
  },
  {
   "cell_type": "code",
   "execution_count": 194,
   "metadata": {
    "ExecuteTime": {
     "end_time": "2023-02-21T10:11:18.153552Z",
     "start_time": "2023-02-21T10:11:18.148784Z"
    }
   },
   "outputs": [
    {
     "name": "stdout",
     "output_type": "stream",
     "text": [
      "[25, 9, 4, 0]\n",
      "[]\n"
     ]
    }
   ],
   "source": [
    "# test\n",
    "print(task_07_func([0, -1, 2, 5, -4, 3]))\n",
    "print(task_07_func([]))"
   ]
  },
  {
   "cell_type": "markdown",
   "metadata": {},
   "source": [
    "__Задание 8 (1 балл):__ Напишите функцию, которая принимает на вход список кортежей одинаковой длины и индекс `index` элемента в кортеже и возвращает генератор, итерирование по которому позволит получит все кортежи входного списка, отсортированные по убыванию элементов этих кортежей с индексом `index`."
   ]
  },
  {
   "cell_type": "code",
   "execution_count": 498,
   "metadata": {
    "ExecuteTime": {
     "end_time": "2023-02-21T20:27:40.117479Z",
     "start_time": "2023-02-21T20:27:40.112998Z"
    }
   },
   "outputs": [],
   "source": [
    "def task_08_func(lst, index):\n",
    "    sort_lst = sorted(lst, key=lambda x: x[index], reverse=True)\n",
    "    for i in sort_lst:\n",
    "        yield i"
   ]
  },
  {
   "cell_type": "code",
   "execution_count": 499,
   "metadata": {
    "ExecuteTime": {
     "end_time": "2023-02-21T20:27:40.975291Z",
     "start_time": "2023-02-21T20:27:40.969426Z"
    }
   },
   "outputs": [
    {
     "name": "stdout",
     "output_type": "stream",
     "text": [
      "[-6, -10, 7]  [1, 4, 6]  [-1, 2, 5]  [2, 2, 3]  \n",
      "[1, 4, 6]  [-1, 2, 5]  [2, 2, 3]  [-6, -10, 7]  "
     ]
    }
   ],
   "source": [
    "# test\n",
    "gen = task_08_func([[1, 4, 6], [-1, 2, 5], [-6, -10, 7], [2, 2, 3]], 2)\n",
    "for i in gen:\n",
    "    print(i, end=\"  \")\n",
    "\n",
    "print()\n",
    "\n",
    "gen = task_08_func([[1, 4, 6], [-1, 2, 5], [-6, -10, 7], [2, 2, 3]], 1)\n",
    "for i in gen:\n",
    "    print(i, end=\"  \")"
   ]
  },
  {
   "cell_type": "markdown",
   "metadata": {},
   "source": [
    "__Задание 9 (1 балл):__ Напишите функцию, которая получает на вход натуральное число `n` и выводит первые `n` строк треугольника Паскаля."
   ]
  },
  {
   "cell_type": "code",
   "execution_count": 143,
   "metadata": {
    "ExecuteTime": {
     "end_time": "2023-02-21T09:21:49.311019Z",
     "start_time": "2023-02-21T09:21:49.304751Z"
    }
   },
   "outputs": [],
   "source": [
    "def task_09_func(n):\n",
    "    loyer = []\n",
    "    for i in range(n + 1):\n",
    "        new_loyer = []\n",
    "        for j in range(len(loyer) + 1):\n",
    "            if j == 0 or j == len(loyer):\n",
    "                new_loyer.append(1)\n",
    "            else:\n",
    "                new_loyer.append(loyer[j - 1] + loyer[j])\n",
    "        print(' '.join(map(str, new_loyer)).center(100))\n",
    "        loyer = new_loyer\n",
    "        print()"
   ]
  },
  {
   "cell_type": "code",
   "execution_count": 144,
   "metadata": {
    "ExecuteTime": {
     "end_time": "2023-02-21T09:21:49.500993Z",
     "start_time": "2023-02-21T09:21:49.496282Z"
    }
   },
   "outputs": [
    {
     "name": "stdout",
     "output_type": "stream",
     "text": [
      "                                                 1                                                  \n",
      "\n",
      "                                                1 1                                                 \n",
      "\n",
      "                                               1 2 1                                                \n",
      "\n",
      "                                              1 3 3 1                                               \n",
      "\n",
      "                                             1 4 6 4 1                                              \n",
      "\n",
      "                                           1 5 10 10 5 1                                            \n",
      "\n",
      "                                          1 6 15 20 15 6 1                                          \n",
      "\n",
      "\n",
      "                                                 1                                                  \n",
      "\n",
      "                                                1 1                                                 \n",
      "\n",
      "                                               1 2 1                                                \n",
      "\n",
      "                                              1 3 3 1                                               \n",
      "\n",
      "                                             1 4 6 4 1                                              \n",
      "\n",
      "                                           1 5 10 10 5 1                                            \n",
      "\n",
      "                                          1 6 15 20 15 6 1                                          \n",
      "\n",
      "                                        1 7 21 35 35 21 7 1                                         \n",
      "\n",
      "                                       1 8 28 56 70 56 28 8 1                                       \n",
      "\n",
      "                                    1 9 36 84 126 126 84 36 9 1                                     \n",
      "\n",
      "                                1 10 45 120 210 252 210 120 45 10 1                                 \n",
      "\n",
      "\n",
      "                                                 1                                                  \n",
      "\n",
      "                                                1 1                                                 \n",
      "\n",
      "                                               1 2 1                                                \n",
      "\n",
      "                                              1 3 3 1                                               \n",
      "\n",
      "                                             1 4 6 4 1                                              \n",
      "\n",
      "                                           1 5 10 10 5 1                                            \n",
      "\n",
      "                                          1 6 15 20 15 6 1                                          \n",
      "\n",
      "                                        1 7 21 35 35 21 7 1                                         \n",
      "\n",
      "                                       1 8 28 56 70 56 28 8 1                                       \n",
      "\n",
      "                                    1 9 36 84 126 126 84 36 9 1                                     \n",
      "\n",
      "                                1 10 45 120 210 252 210 120 45 10 1                                 \n",
      "\n",
      "                              1 11 55 165 330 462 462 330 165 55 11 1                               \n",
      "\n",
      "                            1 12 66 220 495 792 924 792 495 220 66 12 1                             \n",
      "\n",
      "                        1 13 78 286 715 1287 1716 1716 1287 715 286 78 13 1                         \n",
      "\n",
      "                     1 14 91 364 1001 2002 3003 3432 3003 2002 1001 364 91 14 1                     \n",
      "\n",
      "                 1 15 105 455 1365 3003 5005 6435 6435 5005 3003 1365 455 105 15 1                  \n",
      "\n"
     ]
    }
   ],
   "source": [
    "# test\n",
    "task_09_func(6)\n",
    "print()\n",
    "task_09_func(10)\n",
    "print()\n",
    "task_09_func(15)"
   ]
  },
  {
   "cell_type": "markdown",
   "metadata": {},
   "source": [
    "__Задание 10 (1 балл):__ Напишите функцию, которая принимает на вход абсолютный путь к директории и две строки с расширениями файлов. В результате её выполнения у всех файлов в указанной директории, имеющих первое расширение, расширение должно измениться на второе. В конце работы функция должна возвращать кортеж из двух элементов:\n",
    "\n",
    "1. сколько всего в директории файлов (именно файлов, не директорий);\n",
    "2. у скольки из них расширение было изменено.\n",
    "\n",
    "Допускается только один проход по каждому файлу из указанной директории."
   ]
  },
  {
   "cell_type": "code",
   "execution_count": 2,
   "metadata": {
    "ExecuteTime": {
     "end_time": "2023-03-02T20:13:50.543309Z",
     "start_time": "2023-03-02T20:13:50.536655Z"
    }
   },
   "outputs": [],
   "source": [
    "from pathlib import Path\n",
    "from glob import glob\n",
    "\n",
    "\n",
    "def task_10_func(dir_path, prev_extension, next_extension):\n",
    "\n",
    "    directory = Path(dir_path)\n",
    "    n_file = 0\n",
    "    n_change = 0\n",
    "    change = []\n",
    "\n",
    "    for path in directory.iterdir():\n",
    "        if path.is_file():\n",
    "            n_file += 1\n",
    "            if path.suffix == prev_extension:\n",
    "                n_change += 1\n",
    "                change.append(path)\n",
    "\n",
    "    for i in range(len(change)):\n",
    "        new_path = Path(dir_path, change[i].stem + next_extension)\n",
    "        change[i].rename(new_path)\n",
    "\n",
    "    print(\"Количество файлов:\", n_file)\n",
    "    print(\"Количество изменений:\", n_change)"
   ]
  },
  {
   "cell_type": "code",
   "execution_count": 21,
   "metadata": {
    "ExecuteTime": {
     "end_time": "2023-03-02T20:27:12.707655Z",
     "start_time": "2023-03-02T20:27:12.702108Z"
    }
   },
   "outputs": [],
   "source": [
    "# Создание тестовых файлов и папок\n",
    "home = Path.home()\n",
    "\n",
    "test_folder = home / \"Test_for_10\"\n",
    "test_folder.mkdir()\n",
    "\n",
    "folder = test_folder / \"Folder\"\n",
    "folder.mkdir()\n",
    "\n",
    "file_1 = test_folder / \"file_1.py\"\n",
    "file_1.touch()\n",
    "\n",
    "file_2 = test_folder / \"file_2.py\"\n",
    "file_2.touch()\n",
    "\n",
    "file_3 = test_folder / \"file_3.txt\"\n",
    "file_3.touch()\n",
    "\n",
    "file_4 = test_folder / \"file_4.txt\"\n",
    "file_4.touch()"
   ]
  },
  {
   "cell_type": "code",
   "execution_count": 22,
   "metadata": {
    "ExecuteTime": {
     "end_time": "2023-03-02T20:27:13.380018Z",
     "start_time": "2023-03-02T20:27:13.364412Z"
    },
    "scrolled": false
   },
   "outputs": [
    {
     "name": "stdout",
     "output_type": "stream",
     "text": [
      "/Users/bogdanovaleksandr/Test_for_10/file_1.py\n",
      "/Users/bogdanovaleksandr/Test_for_10/file_4.txt\n",
      "/Users/bogdanovaleksandr/Test_for_10/file_3.txt\n",
      "/Users/bogdanovaleksandr/Test_for_10/file_2.py\n",
      "\n",
      "Количество файлов: 4\n",
      "Количество изменений: 2\n",
      "\n",
      "/Users/bogdanovaleksandr/Test_for_10/file_1.py\n",
      "/Users/bogdanovaleksandr/Test_for_10/file_4.py\n",
      "/Users/bogdanovaleksandr/Test_for_10/file_3.py\n",
      "/Users/bogdanovaleksandr/Test_for_10/file_2.py\n",
      "\n",
      "/Users/bogdanovaleksandr/Test_for_10/file_1.py\n",
      "/Users/bogdanovaleksandr/Test_for_10/file_4.py\n",
      "/Users/bogdanovaleksandr/Test_for_10/file_3.py\n",
      "/Users/bogdanovaleksandr/Test_for_10/file_2.py\n",
      "\n",
      "Количество файлов: 4\n",
      "Количество изменений: 4\n",
      "\n",
      "/Users/bogdanovaleksandr/Test_for_10/file_4.txt\n",
      "/Users/bogdanovaleksandr/Test_for_10/file_1.txt\n",
      "/Users/bogdanovaleksandr/Test_for_10/file_2.txt\n",
      "/Users/bogdanovaleksandr/Test_for_10/file_3.txt\n",
      "\n",
      "/Users/bogdanovaleksandr/Test_for_10/file_4.txt\n",
      "/Users/bogdanovaleksandr/Test_for_10/file_1.txt\n",
      "/Users/bogdanovaleksandr/Test_for_10/file_2.txt\n",
      "/Users/bogdanovaleksandr/Test_for_10/file_3.txt\n",
      "\n",
      "Количество файлов: 4\n",
      "Количество изменений: 4\n",
      "\n",
      "/Users/bogdanovaleksandr/Test_for_10/file_1.py\n",
      "/Users/bogdanovaleksandr/Test_for_10/file_4.py\n",
      "/Users/bogdanovaleksandr/Test_for_10/file_3.py\n",
      "/Users/bogdanovaleksandr/Test_for_10/file_2.py\n"
     ]
    }
   ],
   "source": [
    "# test\n",
    "for path in test_folder.iterdir():\n",
    "    if path.is_file():\n",
    "        print(path)\n",
    "print()\n",
    "task_10_func(test_folder, \".txt\", \".py\")\n",
    "print()\n",
    "for path in test_folder.iterdir():\n",
    "    if path.is_file():\n",
    "        print(path)\n",
    "\n",
    "print()\n",
    "\n",
    "for path in test_folder.iterdir():\n",
    "    if path.is_file():\n",
    "        print(path)\n",
    "print()\n",
    "task_10_func(test_folder, \".py\", \".txt\")\n",
    "print()\n",
    "for path in test_folder.iterdir():\n",
    "    if path.is_file():\n",
    "        print(path)\n",
    "\n",
    "print()\n",
    "\n",
    "for path in test_folder.iterdir():\n",
    "    if path.is_file():\n",
    "        print(path)\n",
    "print()\n",
    "task_10_func(test_folder, \".txt\", \".py\")\n",
    "print()\n",
    "for path in test_folder.iterdir():\n",
    "    if path.is_file():\n",
    "        print(path)"
   ]
  },
  {
   "cell_type": "code",
   "execution_count": 23,
   "metadata": {
    "ExecuteTime": {
     "end_time": "2023-03-02T20:27:24.991630Z",
     "start_time": "2023-03-02T20:27:24.987488Z"
    }
   },
   "outputs": [],
   "source": [
    "# Удаление тестовых папок и файлов\n",
    "import shutil\n",
    "shutil.rmtree(test_folder)"
   ]
  },
  {
   "cell_type": "markdown",
   "metadata": {},
   "source": [
    "__Задание 11 (1 балл):__ Описать функцию, которая принимает на вход два списка и возвращает список уникальных элементов, которые есть в первом входном списке и отсутствуют во втором. Запрещается использовать циклы и списковые включения/генераторы списков."
   ]
  },
  {
   "cell_type": "code",
   "execution_count": 372,
   "metadata": {
    "ExecuteTime": {
     "end_time": "2023-02-21T17:29:29.890369Z",
     "start_time": "2023-02-21T17:29:29.885370Z"
    }
   },
   "outputs": [],
   "source": [
    "def task_11_func(first_list, second_list):\n",
    "    return list(set(first_list) - set(second_list))"
   ]
  },
  {
   "cell_type": "code",
   "execution_count": 373,
   "metadata": {
    "ExecuteTime": {
     "end_time": "2023-02-21T17:29:30.699992Z",
     "start_time": "2023-02-21T17:29:30.693892Z"
    }
   },
   "outputs": [
    {
     "name": "stdout",
     "output_type": "stream",
     "text": [
      "[1]\n",
      "[]\n",
      "[1, 2, 3]\n"
     ]
    }
   ],
   "source": [
    "# test\n",
    "print(task_11_func([1, 2, 3], [2, 3, 5]))\n",
    "print(task_11_func([], [1, 2, 3]))\n",
    "print(task_11_func([1, 2, 3], []))"
   ]
  },
  {
   "cell_type": "markdown",
   "metadata": {},
   "source": [
    "__Задание 12 (1 балл):__ Напишите функцию, которая получает на вход путь к файлу, в котором в каждой строке записано одно вещественное число, а также путь к выходному файлу. Функция должна прочитать содержимое файла, игнорировать строки с нечётными индексами, а строки с чётными индексами должна увеличить на минимальное из чисел, содержащихся в этом файле. Полученные числа нужно записать в выходной файл с точностью 5 знаков после запятой.\n",
    "\n",
    "Требуется сделать не более двух проходов по входному файлу, расход памяти на протяжении работы должен быть O(1) (то есть никак не зависеть от числа строк во входном файле)."
   ]
  },
  {
   "cell_type": "code",
   "execution_count": 39,
   "metadata": {
    "ExecuteTime": {
     "end_time": "2023-03-02T20:45:45.027576Z",
     "start_time": "2023-03-02T20:45:45.022594Z"
    }
   },
   "outputs": [],
   "source": [
    "# Создание тестовых файлов и папок\n",
    "home = Path.home()\n",
    "\n",
    "test_folder = home / \"Test_for_11\"\n",
    "test_folder.mkdir()\n",
    "\n",
    "file_1 = test_folder / \"file_1.txt\"\n",
    "file_1.touch()\n",
    "\n",
    "file_2 = test_folder / \"file_2.txt\"\n",
    "file_2.touch()\n",
    "\n",
    "test = [10.1234567, 9.67835, 8.34, 11.323, 12.43, 15.1, 9.23, 7.3, 8.548754, 18.3784, 20.74837]\n",
    "with open(file_1, 'w') as fout:\n",
    "    for number in test:\n",
    "        fout.write(str(number) + '\\n')"
   ]
  },
  {
   "cell_type": "code",
   "execution_count": 40,
   "metadata": {
    "ExecuteTime": {
     "end_time": "2023-03-02T20:45:45.464462Z",
     "start_time": "2023-03-02T20:45:45.459843Z"
    }
   },
   "outputs": [],
   "source": [
    "def task_12_func(input_path, output_path):\n",
    "    with open(input_path, 'r') as fin:\n",
    "        minimum = None\n",
    "        for line in fin:\n",
    "            if minimum is None:\n",
    "                minimum = float(line.strip())\n",
    "            if minimum > float(line.strip()):\n",
    "                minimum = float(line.strip())\n",
    "        fin.seek(0)\n",
    "        with open(output_path, 'w') as fout:\n",
    "            for i, line in enumerate(fin):\n",
    "                if i % 2 == 0:  # Нумерация строк начинается с нуля\n",
    "                    fout.write(\n",
    "                        str(round(minimum + float(line.strip()), 5)) + \"\\n\")\n",
    "                else:\n",
    "                    fout.write(str(round(float(line.strip()), 5)) + \"\\n\")"
   ]
  },
  {
   "cell_type": "code",
   "execution_count": 41,
   "metadata": {
    "ExecuteTime": {
     "end_time": "2023-03-02T20:45:46.534171Z",
     "start_time": "2023-03-02T20:45:46.530458Z"
    }
   },
   "outputs": [],
   "source": [
    "task_12_func(file_1, file_2)"
   ]
  },
  {
   "cell_type": "markdown",
   "metadata": {},
   "source": [
    "test\n",
    "\n",
    "In: $\\qquad \\qquad \\qquad$ Out: \n",
    "\n",
    "    10.1234567        17.42346\n",
    "\n",
    "    9.67835           9.67835\n",
    "    \n",
    "    8.34              15.64\n",
    "    \n",
    "    11.323            11.323\n",
    "    \n",
    "    12.43             19.73\n",
    "    \n",
    "    15.1              15.1\n",
    "    \n",
    "    9.23              16.53\n",
    "    \n",
    "    7.3               7.3\n",
    "    \n",
    "    8.548754          15.84875\n",
    "    \n",
    "    18.3784           18.3784\n",
    "    \n",
    "    20.74837          28.04837    "
   ]
  },
  {
   "cell_type": "code",
   "execution_count": 42,
   "metadata": {
    "ExecuteTime": {
     "end_time": "2023-03-02T20:45:59.465119Z",
     "start_time": "2023-03-02T20:45:59.461401Z"
    }
   },
   "outputs": [],
   "source": [
    "# Удаление тестовых папок и файлов\n",
    "import shutil\n",
    "shutil.rmtree(test_folder)"
   ]
  },
  {
   "cell_type": "markdown",
   "metadata": {},
   "source": [
    "__Задание 13 (1 балл):__ Написать функцию, которая принимает на вход число `n`, которое может быть либо натуральным, либо -1, и возвращает генератор чисел Фиббоначи. Если входной параметр равен натуральному числу, то генератор должен выдавать последовательно числа Фиббоначи до `n`-го. Если `n` равно -1, то генератор должен быть бесконечным."
   ]
  },
  {
   "cell_type": "code",
   "execution_count": 529,
   "metadata": {
    "ExecuteTime": {
     "end_time": "2023-02-21T20:36:53.907610Z",
     "start_time": "2023-02-21T20:36:53.901586Z"
    }
   },
   "outputs": [],
   "source": [
    "def task_13_func(n):\n",
    "    number_0 = 0\n",
    "    number_1 = 1\n",
    "    if n == 0:\n",
    "        yield number_0\n",
    "    elif n == 1:\n",
    "        yield number_0\n",
    "        yield number_1\n",
    "    else:\n",
    "        yield number_0\n",
    "        yield number_1\n",
    "        if n == -1:\n",
    "            while True:\n",
    "                yield number_0 + number_1\n",
    "                helps = number_1\n",
    "                number_1 = number_0 + number_1\n",
    "                number_0 = helps\n",
    "        else:\n",
    "            for _ in range(n - 1):\n",
    "                yield number_0 + number_1\n",
    "                helps = number_1\n",
    "                number_1 = number_0 + number_1\n",
    "                number_0 = helps"
   ]
  },
  {
   "cell_type": "code",
   "execution_count": 537,
   "metadata": {
    "ExecuteTime": {
     "end_time": "2023-02-21T20:51:24.642910Z",
     "start_time": "2023-02-21T20:51:24.636658Z"
    }
   },
   "outputs": [
    {
     "name": "stdout",
     "output_type": "stream",
     "text": [
      "0  \n",
      "0  1  \n",
      "0  1  1  2  3  5  8  13  21  34  55  \n",
      "0  1  1  2  3  5  8  13  21  34  55  89  144  233  377  "
     ]
    }
   ],
   "source": [
    "# test\n",
    "gen = task_13_func(0)\n",
    "for i in gen:\n",
    "    print(i, end=\"  \")\n",
    "\n",
    "print()\n",
    "\n",
    "gen = task_13_func(1)\n",
    "for i in gen:\n",
    "    print(i, end=\"  \")\n",
    "\n",
    "print()\n",
    "\n",
    "gen = task_13_func(10)\n",
    "for i in gen:\n",
    "    print(i, end=\"  \")\n",
    "\n",
    "print()\n",
    "\n",
    "gen = task_13_func(-1)\n",
    "for _ in range(15):\n",
    "    print(next(gen), end=\"  \")"
   ]
  },
  {
   "cell_type": "markdown",
   "metadata": {},
   "source": [
    "__Задание 14 (1 балл):__ Написать функцию, которая принимает на вход произвольный объект, проверяет его тип, и для целого числа возвращает список всех магических методов объекта, начинающихся с `__a`, для строк - с `__s`. Для всех прочих типов должен возвращаться список немагических методов. В задании запрещается использовать циклы и списковые включения/генераторы списков."
   ]
  },
  {
   "cell_type": "code",
   "execution_count": 584,
   "metadata": {
    "ExecuteTime": {
     "end_time": "2023-02-21T21:59:46.374327Z",
     "start_time": "2023-02-21T21:59:46.368342Z"
    }
   },
   "outputs": [],
   "source": [
    "def task_14_func(n):\n",
    "    if type(n) is int:\n",
    "        print(list(filter(lambda x: x.startswith(\"__a\"), dir(type(n)))))\n",
    "    elif type(n) is str:\n",
    "        print(list(filter(lambda x: x.startswith(\"__s\"), dir(type(n)))))\n",
    "    else:\n",
    "        print(list(filter(lambda x: not x.startswith(\"__\"), dir(type(n)))))"
   ]
  },
  {
   "cell_type": "code",
   "execution_count": 585,
   "metadata": {
    "ExecuteTime": {
     "end_time": "2023-02-21T21:59:46.827258Z",
     "start_time": "2023-02-21T21:59:46.823213Z"
    }
   },
   "outputs": [
    {
     "name": "stdout",
     "output_type": "stream",
     "text": [
      "['__abs__', '__add__', '__and__']\n",
      "\n",
      "['__setattr__', '__sizeof__', '__str__', '__subclasshook__']\n",
      "\n",
      "['append', 'clear', 'copy', 'count', 'extend', 'index', 'insert', 'pop', 'remove', 'reverse', 'sort']\n"
     ]
    }
   ],
   "source": [
    "# test\n",
    "task_14_func(5)\n",
    "\n",
    "print()\n",
    "\n",
    "task_14_func(\"Python\")\n",
    "\n",
    "print()\n",
    "\n",
    "task_14_func([])"
   ]
  },
  {
   "cell_type": "markdown",
   "metadata": {},
   "source": [
    "__Задание 15 (1.5 балла):__ Написать функцию, которая во входной строке заменяет вхождения всех английских заглавных букв на их номер в таблице ASCII, затем производит сплит по минимальной из цифр строки. Предложите как минимум два различных решения, одно из которых не должно использовать циклы. При использовании циклов допускается не более двух проходов по строке."
   ]
  },
  {
   "cell_type": "code",
   "execution_count": 607,
   "metadata": {
    "ExecuteTime": {
     "end_time": "2023-02-21T22:42:56.088205Z",
     "start_time": "2023-02-21T22:42:56.081273Z"
    }
   },
   "outputs": [],
   "source": [
    "def task_15_func(string):\n",
    "    new_string = \"\"\n",
    "    minimum = 10\n",
    "    for letter in string:\n",
    "        if letter.istitle():\n",
    "            letter_code = str(ord(letter))\n",
    "            for number in list(letter_code):\n",
    "                if int(number) < minimum:\n",
    "                    minimum = int(number)\n",
    "                new_string += number\n",
    "        else:\n",
    "            new_string += letter\n",
    "    return new_string.split(str(minimum))"
   ]
  },
  {
   "cell_type": "code",
   "execution_count": 611,
   "metadata": {
    "ExecuteTime": {
     "end_time": "2023-02-21T22:44:02.341802Z",
     "start_time": "2023-02-21T22:44:02.334027Z"
    }
   },
   "outputs": [
    {
     "name": "stdout",
     "output_type": "stream",
     "text": [
      "['p89thon 777', 'p84 76et84er 8', '84ring']\n",
      "\n",
      "['python mipt letter string']\n"
     ]
    }
   ],
   "source": [
    "# test\n",
    "print(task_15_func(\"pYthon MIpT LetTer STring\"))\n",
    "\n",
    "print()\n",
    "\n",
    "print(task_15_func(\"python mipt letter string\"))"
   ]
  },
  {
   "cell_type": "code",
   "execution_count": 624,
   "metadata": {
    "ExecuteTime": {
     "end_time": "2023-02-21T23:10:51.265773Z",
     "start_time": "2023-02-21T23:10:51.259488Z"
    }
   },
   "outputs": [],
   "source": [
    "def task_15_func(string):\n",
    "    string_list = list(string)\n",
    "    minimum = 10\n",
    "\n",
    "    def help(letter):\n",
    "        nonlocal minimum\n",
    "        if letter.istitle():\n",
    "            min_number = int(min(list(str(ord(letter)))))\n",
    "            if min_number < minimum:\n",
    "                minimum = min_number\n",
    "            return str(ord(letter))\n",
    "        else:\n",
    "            return letter\n",
    "    new_string = \"\".join(map(help, string_list))\n",
    "    return new_string.split(str(minimum))"
   ]
  },
  {
   "cell_type": "code",
   "execution_count": 625,
   "metadata": {
    "ExecuteTime": {
     "end_time": "2023-02-21T23:10:51.843669Z",
     "start_time": "2023-02-21T23:10:51.839061Z"
    }
   },
   "outputs": [
    {
     "name": "stdout",
     "output_type": "stream",
     "text": [
      "['p89thon 777', 'p84 76et84er 8', '84ring']\n",
      "\n",
      "['python mipt letter string']\n"
     ]
    }
   ],
   "source": [
    "# test\n",
    "print(task_15_func(\"pYthon MIpT LetTer STring\"))\n",
    "\n",
    "print()\n",
    "\n",
    "print(task_15_func(\"python mipt letter string\"))"
   ]
  },
  {
   "cell_type": "markdown",
   "metadata": {},
   "source": [
    "__Задание 16 (1.5 балла):__ Написать функцию, которая принимает на вход строку и извлекает из неё мобильные телефонные номера с помощью регулярных выражений. Функция должна поддерживать общепринятые варианты написания номера, как со всевозможными разделителями, так и без них (обеспечьте поддержку не менее 10 различных случаев). Возвращаемым значением функции является список всех найденных в строке номеров, если их не было, нужно вернуть пустой список."
   ]
  },
  {
   "cell_type": "code",
   "execution_count": 43,
   "metadata": {
    "ExecuteTime": {
     "end_time": "2023-02-23T19:56:53.413489Z",
     "start_time": "2023-02-23T19:56:53.409132Z"
    }
   },
   "outputs": [],
   "source": [
    "import re\n",
    "\n",
    "\n",
    "def task_16_func(s):\n",
    "    patterns = re.compile(\n",
    "        \"(?:8|\\+7)\\s?\\(?\\d{3}\\)?\\s?\\d{3}(?:\\-| )?\\d{2}(?:\\-| )?\\d{2}\")\n",
    "    return re.findall(patterns, s)"
   ]
  },
  {
   "cell_type": "code",
   "execution_count": 44,
   "metadata": {
    "ExecuteTime": {
     "end_time": "2023-02-23T19:56:53.906864Z",
     "start_time": "2023-02-23T19:56:53.901358Z"
    }
   },
   "outputs": [
    {
     "name": "stdout",
     "output_type": "stream",
     "text": [
      "[]\n",
      "\n",
      "['81235676554', '+75672638725', '8 372 946-28-39', '+7 274 820-37-48', '8 (372) 829-20-84', '+7 (474) 782-92-90', '8 377 483 92 09', '+7 938 747 37 72', '8(747)3847588', '+7(747)3882920']\n"
     ]
    }
   ],
   "source": [
    "# test\n",
    "print(task_16_func(\"We have grown up with his learned cat, who walked round and round the oak-tree, singing songs as he circled right, and telling tales as he circled left. We were fond of his exiled Prince, who was turned into a bumble-bee so that he could fly to his father's court and sting his wicked aunt on the nose. Later we experienced Onegin's boredom, Tatiana's unrequited love, Godunov's uneasy conscience, Herman's tension at the gaming table, Saliere's jealousy of Mozart, and heard the dead steps of the Stone Guest and the thundering hooves of the Bronze Horseman.\"))\n",
    "\n",
    "print()\n",
    "\n",
    "print(task_16_func(\"We have grown 81235676554up with his learned +75672638725cat, who walked 8 372 946-28-39round and 54round the +7 274 820-37-48 oak-tree, singing8 (372) 829-20-84songs as he circled right, +7 (474) 782-92-90and telling tales as he circled left. We were fond of his 8 377 483 92 09exiled Prince, who was turned into a bumble-bee so that he could fly to his father's court and sting his wicked aunt on the nose. Later we experienced Onegin's +7 938 747 37 72boredom, Tatiana's unrequited love, Godunov's uneasy conscience, 8(747)3847588 Herman's tension at the gaming table, Saliere's jealousy of Mozart, and heard the dead steps of the Stone Guest and the  +7(747)3882920 thundering hooves of the Bronze Horseman.\"))"
   ]
  },
  {
   "cell_type": "markdown",
   "metadata": {},
   "source": [
    "__Задание 17 (5 баллов):__ Опишем бинарное дерево, представленное в виде вложенных кортежей, в каждом узле дерева хранится вещественное число и ссылка на левое и правое поддерево.\n",
    "\n",
    "Пример: для сбалансированного дерева\n",
    "\n",
    "```\n",
    "        v_0\n",
    "       /   \\\n",
    "   v_11     v_12\n",
    "  /  \\       /  \\\n",
    "v_21 v_22  v_23 v_24\n",
    "```\n",
    "\n",
    "представление в виде кортежей будет выглядеть так:\n",
    "\n",
    "```\n",
    "(v_0,\n",
    "    (v_11,\n",
    "        (v_21, None, None),\n",
    "        (v_22, None, None)\n",
    "    ),\n",
    "    (v_12,\n",
    "        (v_23, None, None),\n",
    "        (v_24, None, None)\n",
    "    )\n",
    ")\n",
    "```\n",
    "\n",
    "Необходимо написать функцию, которая принимает на вход бинарное дерево (не обязательно сбалансированное), закодированное описанным способом в виде кортежа, производит его обход в глубину и для каждой листовой вершины вычисляет сумму всех значений от корня до неё включительно. Функция ничего не возвращает, вместо этого она выводит получаемые суммы в порядке следования листовых вершин (слева направо).\n",
    "\n",
    "Реализуйте два решения: на основе рекурсии и на основе циклов."
   ]
  },
  {
   "cell_type": "code",
   "execution_count": 16,
   "metadata": {
    "ExecuteTime": {
     "end_time": "2023-02-22T11:14:04.335035Z",
     "start_time": "2023-02-22T11:14:04.330959Z"
    }
   },
   "outputs": [],
   "source": [
    "def task_17_func(courtage):\n",
    "    if courtage[1] is not None:\n",
    "        task_17_func((courtage[1][0] + courtage[0],\n",
    "                     courtage[1][1], courtage[1][2]))\n",
    "    if courtage[2] is not None:\n",
    "        task_17_func((courtage[2][0] + courtage[0],\n",
    "                     courtage[2][1], courtage[2][2]))\n",
    "    if courtage[1] is None and courtage[2] is None:\n",
    "        print(courtage[0], end=\" \")"
   ]
  },
  {
   "cell_type": "markdown",
   "metadata": {},
   "source": [
    "```\n",
    "     1 \n",
    "   /   \\\n",
    "  2     3\n",
    " / \\   / \\\n",
    "4   5 6   7\n",
    "           \\\n",
    "            8\n",
    "```"
   ]
  },
  {
   "cell_type": "code",
   "execution_count": 17,
   "metadata": {
    "ExecuteTime": {
     "end_time": "2023-02-22T11:14:05.203608Z",
     "start_time": "2023-02-22T11:14:05.197670Z"
    }
   },
   "outputs": [
    {
     "name": "stdout",
     "output_type": "stream",
     "text": [
      "7 8 10 19 "
     ]
    }
   ],
   "source": [
    "# test\n",
    "task_17_func((1, (2, (4, None, None), (5, None, None)),\n",
    "             (3, (6, None, None), (7, None, (8, None, None)))))"
   ]
  },
  {
   "cell_type": "code",
   "execution_count": 74,
   "metadata": {
    "ExecuteTime": {
     "end_time": "2023-02-22T14:14:29.576093Z",
     "start_time": "2023-02-22T14:14:29.568103Z"
    }
   },
   "outputs": [],
   "source": [
    "def task_17_func(courtage):\n",
    "    vertexes = [list(courtage)]\n",
    "\n",
    "    while vertexes:\n",
    "        if vertexes[-1][1] is not None:\n",
    "            vertexes.append([vertexes[-1][0] + vertexes[-1][1]\n",
    "                            [0], vertexes[-1][1][1], vertexes[-1][1][2]])\n",
    "            vertexes[-2][1] = None\n",
    "        if vertexes[-1][2] is not None:\n",
    "            vertexes.append([vertexes[-1][0] + vertexes[-1][2]\n",
    "                            [0], vertexes[-1][2][1], vertexes[-1][2][2]])\n",
    "            vertexes[-2][2] = None\n",
    "        if vertexes[-1][1] is None and vertexes[-1][2] is None:\n",
    "            print(vertexes[-1][0], end=\" \")\n",
    "            vertexes.pop()\n",
    "            while vertexes and vertexes[-1][1] is None and vertexes[-1][2] is None:\n",
    "                vertexes.pop()"
   ]
  },
  {
   "cell_type": "markdown",
   "metadata": {},
   "source": [
    "```\n",
    "     1 \n",
    "   /   \\\n",
    "  2     3\n",
    " / \\   / \\\n",
    "4   5 6   7\n",
    "           \\\n",
    "            8\n",
    "```"
   ]
  },
  {
   "cell_type": "code",
   "execution_count": 75,
   "metadata": {
    "ExecuteTime": {
     "end_time": "2023-02-22T14:14:30.439952Z",
     "start_time": "2023-02-22T14:14:30.434144Z"
    }
   },
   "outputs": [
    {
     "name": "stdout",
     "output_type": "stream",
     "text": [
      "8 7 10 19 "
     ]
    }
   ],
   "source": [
    "# test\n",
    "task_17_func((1, (2, (4, None, None), (5, None, None)),\n",
    "             (3, (6, None, None), (7, None, (8, None, None)))))"
   ]
  }
 ],
 "metadata": {
  "kernelspec": {
   "display_name": "Python 3 (ipykernel)",
   "language": "python",
   "name": "python3"
  },
  "language_info": {
   "codemirror_mode": {
    "name": "ipython",
    "version": 3
   },
   "file_extension": ".py",
   "mimetype": "text/x-python",
   "name": "python",
   "nbconvert_exporter": "python",
   "pygments_lexer": "ipython3",
   "version": "3.9.7"
  }
 },
 "nbformat": 4,
 "nbformat_minor": 2
}
